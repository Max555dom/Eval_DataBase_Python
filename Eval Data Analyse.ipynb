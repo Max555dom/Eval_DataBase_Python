{
 "cells": [
  {
   "cell_type": "raw",
   "metadata": {},
   "source": [
    "Import de librairie\n",
    "\n",
    "Projet Python data visualisation  \n",
    "Modalité d’évaluation \n",
    "4 compétences évaluées \n",
    "Notation sur 20 \n",
    "Consignes \n",
    "Votre analyse sous forme de Jupyter Notebook devra contenir:\n",
    "Au moins 1 diagramme avec données continues, type nuage de point ou histogramme\n",
    "Au moins 2diagramme avec des données discrètes\n",
    "Au moins 3 graphiques avec des données catégoriques\n",
    "1 boîte à moustaches avec filtrage des données aberrantes sur le dataset (si il y en a)\n",
    "1 heat map avec matrice de corrélation (si pertinent)\n",
    "Des commentaires clairs et pertinents pour chaque graphiques "
   ]
  },
  {
   "cell_type": "markdown",
   "metadata": {},
   "source": [
    "# Quel equipe NBA est la meilleur en campagne de PlayOff ( gagnante )  entre 1980 et 2010 ?"
   ]
  },
  {
   "cell_type": "markdown",
   "metadata": {},
   "source": [
    "Telechargement des librairies"
   ]
  },
  {
   "cell_type": "code",
   "execution_count": 32,
   "metadata": {},
   "outputs": [],
   "source": [
    "import seaborn as sns\n",
    "import pandas as pd\n",
    "import numpy as np\n",
    "import matplotlib.pyplot as plt"
   ]
  },
  {
   "cell_type": "markdown",
   "metadata": {},
   "source": [
    "Importation du csv"
   ]
  },
  {
   "cell_type": "code",
   "execution_count": 33,
   "metadata": {},
   "outputs": [],
   "source": [
    "basket = pd.read_csv('./data/championsdata.csv')\n"
   ]
  },
  {
   "cell_type": "markdown",
   "metadata": {},
   "source": [
    "Affichage des infos de la base de donnée"
   ]
  },
  {
   "cell_type": "code",
   "execution_count": 34,
   "metadata": {},
   "outputs": [
    {
     "name": "stdout",
     "output_type": "stream",
     "text": [
      "<class 'pandas.core.frame.DataFrame'>\n",
      "RangeIndex: 220 entries, 0 to 219\n",
      "Data columns (total 24 columns):\n",
      " #   Column  Non-Null Count  Dtype  \n",
      "---  ------  --------------  -----  \n",
      " 0   Year    220 non-null    int64  \n",
      " 1   Team    220 non-null    object \n",
      " 2   Game    220 non-null    int64  \n",
      " 3   Win     220 non-null    int64  \n",
      " 4   Home    220 non-null    int64  \n",
      " 5   MP      220 non-null    int64  \n",
      " 6   FG      220 non-null    int64  \n",
      " 7   FGA     220 non-null    int64  \n",
      " 8   FGP     220 non-null    float64\n",
      " 9   TP      220 non-null    int64  \n",
      " 10  TPA     220 non-null    int64  \n",
      " 11  TPP     214 non-null    float64\n",
      " 12  FT      220 non-null    int64  \n",
      " 13  FTA     220 non-null    int64  \n",
      " 14  FTP     220 non-null    float64\n",
      " 15  ORB     220 non-null    int64  \n",
      " 16  DRB     220 non-null    int64  \n",
      " 17  TRB     220 non-null    int64  \n",
      " 18  AST     220 non-null    int64  \n",
      " 19  STL     220 non-null    int64  \n",
      " 20  BLK     220 non-null    int64  \n",
      " 21  TOV     220 non-null    int64  \n",
      " 22  PF      220 non-null    int64  \n",
      " 23  PTS     220 non-null    int64  \n",
      "dtypes: float64(3), int64(20), object(1)\n",
      "memory usage: 41.4+ KB\n"
     ]
    }
   ],
   "source": [
    "basket.info();"
   ]
  },
  {
   "cell_type": "code",
   "execution_count": 38,
   "metadata": {},
   "outputs": [
    {
     "data": {
      "text/html": [
       "<div>\n",
       "<style scoped>\n",
       "    .dataframe tbody tr th:only-of-type {\n",
       "        vertical-align: middle;\n",
       "    }\n",
       "\n",
       "    .dataframe tbody tr th {\n",
       "        vertical-align: top;\n",
       "    }\n",
       "\n",
       "    .dataframe thead th {\n",
       "        text-align: right;\n",
       "    }\n",
       "</style>\n",
       "<table border=\"1\" class=\"dataframe\">\n",
       "  <thead>\n",
       "    <tr style=\"text-align: right;\">\n",
       "      <th></th>\n",
       "      <th>Year</th>\n",
       "      <th>Team</th>\n",
       "      <th>Game</th>\n",
       "      <th>Win</th>\n",
       "      <th>Home</th>\n",
       "      <th>MP</th>\n",
       "      <th>FG</th>\n",
       "      <th>FGA</th>\n",
       "      <th>FGP</th>\n",
       "      <th>TP</th>\n",
       "      <th>...</th>\n",
       "      <th>FTP</th>\n",
       "      <th>ORB</th>\n",
       "      <th>DRB</th>\n",
       "      <th>TRB</th>\n",
       "      <th>AST</th>\n",
       "      <th>STL</th>\n",
       "      <th>BLK</th>\n",
       "      <th>TOV</th>\n",
       "      <th>PF</th>\n",
       "      <th>PTS</th>\n",
       "    </tr>\n",
       "  </thead>\n",
       "  <tbody>\n",
       "    <tr>\n",
       "      <th>0</th>\n",
       "      <td>1980</td>\n",
       "      <td>Lakers</td>\n",
       "      <td>1</td>\n",
       "      <td>1</td>\n",
       "      <td>1</td>\n",
       "      <td>240</td>\n",
       "      <td>48</td>\n",
       "      <td>89</td>\n",
       "      <td>0.539</td>\n",
       "      <td>0</td>\n",
       "      <td>...</td>\n",
       "      <td>0.867</td>\n",
       "      <td>12</td>\n",
       "      <td>31</td>\n",
       "      <td>43</td>\n",
       "      <td>30</td>\n",
       "      <td>5</td>\n",
       "      <td>9</td>\n",
       "      <td>17</td>\n",
       "      <td>24</td>\n",
       "      <td>109</td>\n",
       "    </tr>\n",
       "    <tr>\n",
       "      <th>1</th>\n",
       "      <td>1980</td>\n",
       "      <td>Lakers</td>\n",
       "      <td>2</td>\n",
       "      <td>0</td>\n",
       "      <td>1</td>\n",
       "      <td>240</td>\n",
       "      <td>48</td>\n",
       "      <td>95</td>\n",
       "      <td>0.505</td>\n",
       "      <td>0</td>\n",
       "      <td>...</td>\n",
       "      <td>0.667</td>\n",
       "      <td>15</td>\n",
       "      <td>37</td>\n",
       "      <td>52</td>\n",
       "      <td>32</td>\n",
       "      <td>12</td>\n",
       "      <td>7</td>\n",
       "      <td>26</td>\n",
       "      <td>27</td>\n",
       "      <td>104</td>\n",
       "    </tr>\n",
       "    <tr>\n",
       "      <th>2</th>\n",
       "      <td>1980</td>\n",
       "      <td>Lakers</td>\n",
       "      <td>3</td>\n",
       "      <td>1</td>\n",
       "      <td>0</td>\n",
       "      <td>240</td>\n",
       "      <td>44</td>\n",
       "      <td>92</td>\n",
       "      <td>0.478</td>\n",
       "      <td>0</td>\n",
       "      <td>...</td>\n",
       "      <td>0.767</td>\n",
       "      <td>22</td>\n",
       "      <td>34</td>\n",
       "      <td>56</td>\n",
       "      <td>20</td>\n",
       "      <td>5</td>\n",
       "      <td>5</td>\n",
       "      <td>20</td>\n",
       "      <td>25</td>\n",
       "      <td>111</td>\n",
       "    </tr>\n",
       "    <tr>\n",
       "      <th>3</th>\n",
       "      <td>1980</td>\n",
       "      <td>Lakers</td>\n",
       "      <td>4</td>\n",
       "      <td>0</td>\n",
       "      <td>0</td>\n",
       "      <td>240</td>\n",
       "      <td>44</td>\n",
       "      <td>93</td>\n",
       "      <td>0.473</td>\n",
       "      <td>0</td>\n",
       "      <td>...</td>\n",
       "      <td>0.737</td>\n",
       "      <td>18</td>\n",
       "      <td>31</td>\n",
       "      <td>49</td>\n",
       "      <td>23</td>\n",
       "      <td>12</td>\n",
       "      <td>6</td>\n",
       "      <td>19</td>\n",
       "      <td>22</td>\n",
       "      <td>102</td>\n",
       "    </tr>\n",
       "    <tr>\n",
       "      <th>4</th>\n",
       "      <td>1980</td>\n",
       "      <td>Lakers</td>\n",
       "      <td>5</td>\n",
       "      <td>1</td>\n",
       "      <td>1</td>\n",
       "      <td>240</td>\n",
       "      <td>41</td>\n",
       "      <td>91</td>\n",
       "      <td>0.451</td>\n",
       "      <td>0</td>\n",
       "      <td>...</td>\n",
       "      <td>0.788</td>\n",
       "      <td>19</td>\n",
       "      <td>37</td>\n",
       "      <td>56</td>\n",
       "      <td>28</td>\n",
       "      <td>7</td>\n",
       "      <td>6</td>\n",
       "      <td>21</td>\n",
       "      <td>27</td>\n",
       "      <td>108</td>\n",
       "    </tr>\n",
       "    <tr>\n",
       "      <th>5</th>\n",
       "      <td>1980</td>\n",
       "      <td>Lakers</td>\n",
       "      <td>6</td>\n",
       "      <td>1</td>\n",
       "      <td>0</td>\n",
       "      <td>240</td>\n",
       "      <td>45</td>\n",
       "      <td>92</td>\n",
       "      <td>0.489</td>\n",
       "      <td>0</td>\n",
       "      <td>...</td>\n",
       "      <td>0.943</td>\n",
       "      <td>17</td>\n",
       "      <td>35</td>\n",
       "      <td>52</td>\n",
       "      <td>27</td>\n",
       "      <td>14</td>\n",
       "      <td>4</td>\n",
       "      <td>17</td>\n",
       "      <td>22</td>\n",
       "      <td>123</td>\n",
       "    </tr>\n",
       "    <tr>\n",
       "      <th>6</th>\n",
       "      <td>1981</td>\n",
       "      <td>Celtics</td>\n",
       "      <td>1</td>\n",
       "      <td>1</td>\n",
       "      <td>1</td>\n",
       "      <td>240</td>\n",
       "      <td>41</td>\n",
       "      <td>95</td>\n",
       "      <td>0.432</td>\n",
       "      <td>0</td>\n",
       "      <td>...</td>\n",
       "      <td>0.800</td>\n",
       "      <td>25</td>\n",
       "      <td>29</td>\n",
       "      <td>54</td>\n",
       "      <td>23</td>\n",
       "      <td>6</td>\n",
       "      <td>5</td>\n",
       "      <td>19</td>\n",
       "      <td>21</td>\n",
       "      <td>98</td>\n",
       "    </tr>\n",
       "    <tr>\n",
       "      <th>7</th>\n",
       "      <td>1981</td>\n",
       "      <td>Celtics</td>\n",
       "      <td>2</td>\n",
       "      <td>0</td>\n",
       "      <td>1</td>\n",
       "      <td>240</td>\n",
       "      <td>41</td>\n",
       "      <td>82</td>\n",
       "      <td>0.500</td>\n",
       "      <td>0</td>\n",
       "      <td>...</td>\n",
       "      <td>0.615</td>\n",
       "      <td>14</td>\n",
       "      <td>34</td>\n",
       "      <td>48</td>\n",
       "      <td>17</td>\n",
       "      <td>6</td>\n",
       "      <td>7</td>\n",
       "      <td>22</td>\n",
       "      <td>27</td>\n",
       "      <td>90</td>\n",
       "    </tr>\n",
       "    <tr>\n",
       "      <th>8</th>\n",
       "      <td>1981</td>\n",
       "      <td>Celtics</td>\n",
       "      <td>3</td>\n",
       "      <td>1</td>\n",
       "      <td>0</td>\n",
       "      <td>240</td>\n",
       "      <td>40</td>\n",
       "      <td>89</td>\n",
       "      <td>0.449</td>\n",
       "      <td>2</td>\n",
       "      <td>...</td>\n",
       "      <td>0.632</td>\n",
       "      <td>16</td>\n",
       "      <td>28</td>\n",
       "      <td>44</td>\n",
       "      <td>24</td>\n",
       "      <td>12</td>\n",
       "      <td>6</td>\n",
       "      <td>11</td>\n",
       "      <td>25</td>\n",
       "      <td>94</td>\n",
       "    </tr>\n",
       "    <tr>\n",
       "      <th>9</th>\n",
       "      <td>1981</td>\n",
       "      <td>Celtics</td>\n",
       "      <td>4</td>\n",
       "      <td>0</td>\n",
       "      <td>0</td>\n",
       "      <td>240</td>\n",
       "      <td>35</td>\n",
       "      <td>74</td>\n",
       "      <td>0.473</td>\n",
       "      <td>0</td>\n",
       "      <td>...</td>\n",
       "      <td>0.667</td>\n",
       "      <td>17</td>\n",
       "      <td>30</td>\n",
       "      <td>47</td>\n",
       "      <td>22</td>\n",
       "      <td>5</td>\n",
       "      <td>6</td>\n",
       "      <td>22</td>\n",
       "      <td>22</td>\n",
       "      <td>86</td>\n",
       "    </tr>\n",
       "    <tr>\n",
       "      <th>10</th>\n",
       "      <td>1981</td>\n",
       "      <td>Celtics</td>\n",
       "      <td>5</td>\n",
       "      <td>1</td>\n",
       "      <td>1</td>\n",
       "      <td>240</td>\n",
       "      <td>41</td>\n",
       "      <td>94</td>\n",
       "      <td>0.436</td>\n",
       "      <td>0</td>\n",
       "      <td>...</td>\n",
       "      <td>0.771</td>\n",
       "      <td>19</td>\n",
       "      <td>35</td>\n",
       "      <td>54</td>\n",
       "      <td>25</td>\n",
       "      <td>5</td>\n",
       "      <td>8</td>\n",
       "      <td>14</td>\n",
       "      <td>23</td>\n",
       "      <td>109</td>\n",
       "    </tr>\n",
       "    <tr>\n",
       "      <th>11</th>\n",
       "      <td>1981</td>\n",
       "      <td>Celtics</td>\n",
       "      <td>6</td>\n",
       "      <td>1</td>\n",
       "      <td>0</td>\n",
       "      <td>240</td>\n",
       "      <td>43</td>\n",
       "      <td>78</td>\n",
       "      <td>0.551</td>\n",
       "      <td>1</td>\n",
       "      <td>...</td>\n",
       "      <td>0.833</td>\n",
       "      <td>9</td>\n",
       "      <td>28</td>\n",
       "      <td>37</td>\n",
       "      <td>26</td>\n",
       "      <td>6</td>\n",
       "      <td>0</td>\n",
       "      <td>13</td>\n",
       "      <td>21</td>\n",
       "      <td>102</td>\n",
       "    </tr>\n",
       "    <tr>\n",
       "      <th>12</th>\n",
       "      <td>1982</td>\n",
       "      <td>Lakers</td>\n",
       "      <td>1</td>\n",
       "      <td>1</td>\n",
       "      <td>0</td>\n",
       "      <td>240</td>\n",
       "      <td>49</td>\n",
       "      <td>93</td>\n",
       "      <td>0.527</td>\n",
       "      <td>0</td>\n",
       "      <td>...</td>\n",
       "      <td>0.743</td>\n",
       "      <td>19</td>\n",
       "      <td>31</td>\n",
       "      <td>50</td>\n",
       "      <td>34</td>\n",
       "      <td>11</td>\n",
       "      <td>7</td>\n",
       "      <td>22</td>\n",
       "      <td>26</td>\n",
       "      <td>124</td>\n",
       "    </tr>\n",
       "    <tr>\n",
       "      <th>13</th>\n",
       "      <td>1982</td>\n",
       "      <td>Lakers</td>\n",
       "      <td>2</td>\n",
       "      <td>0</td>\n",
       "      <td>0</td>\n",
       "      <td>240</td>\n",
       "      <td>35</td>\n",
       "      <td>83</td>\n",
       "      <td>0.422</td>\n",
       "      <td>0</td>\n",
       "      <td>...</td>\n",
       "      <td>0.649</td>\n",
       "      <td>17</td>\n",
       "      <td>22</td>\n",
       "      <td>39</td>\n",
       "      <td>25</td>\n",
       "      <td>11</td>\n",
       "      <td>6</td>\n",
       "      <td>18</td>\n",
       "      <td>21</td>\n",
       "      <td>94</td>\n",
       "    </tr>\n",
       "    <tr>\n",
       "      <th>14</th>\n",
       "      <td>1982</td>\n",
       "      <td>Lakers</td>\n",
       "      <td>3</td>\n",
       "      <td>1</td>\n",
       "      <td>1</td>\n",
       "      <td>240</td>\n",
       "      <td>50</td>\n",
       "      <td>91</td>\n",
       "      <td>0.549</td>\n",
       "      <td>1</td>\n",
       "      <td>...</td>\n",
       "      <td>0.596</td>\n",
       "      <td>17</td>\n",
       "      <td>31</td>\n",
       "      <td>48</td>\n",
       "      <td>30</td>\n",
       "      <td>15</td>\n",
       "      <td>5</td>\n",
       "      <td>18</td>\n",
       "      <td>30</td>\n",
       "      <td>129</td>\n",
       "    </tr>\n",
       "    <tr>\n",
       "      <th>15</th>\n",
       "      <td>1982</td>\n",
       "      <td>Lakers</td>\n",
       "      <td>4</td>\n",
       "      <td>1</td>\n",
       "      <td>1</td>\n",
       "      <td>240</td>\n",
       "      <td>45</td>\n",
       "      <td>97</td>\n",
       "      <td>0.464</td>\n",
       "      <td>0</td>\n",
       "      <td>...</td>\n",
       "      <td>0.724</td>\n",
       "      <td>16</td>\n",
       "      <td>33</td>\n",
       "      <td>49</td>\n",
       "      <td>35</td>\n",
       "      <td>10</td>\n",
       "      <td>4</td>\n",
       "      <td>12</td>\n",
       "      <td>21</td>\n",
       "      <td>111</td>\n",
       "    </tr>\n",
       "    <tr>\n",
       "      <th>16</th>\n",
       "      <td>1982</td>\n",
       "      <td>Lakers</td>\n",
       "      <td>5</td>\n",
       "      <td>0</td>\n",
       "      <td>0</td>\n",
       "      <td>240</td>\n",
       "      <td>47</td>\n",
       "      <td>100</td>\n",
       "      <td>0.470</td>\n",
       "      <td>0</td>\n",
       "      <td>...</td>\n",
       "      <td>0.500</td>\n",
       "      <td>26</td>\n",
       "      <td>23</td>\n",
       "      <td>49</td>\n",
       "      <td>31</td>\n",
       "      <td>5</td>\n",
       "      <td>9</td>\n",
       "      <td>24</td>\n",
       "      <td>29</td>\n",
       "      <td>102</td>\n",
       "    </tr>\n",
       "    <tr>\n",
       "      <th>17</th>\n",
       "      <td>1982</td>\n",
       "      <td>Lakers</td>\n",
       "      <td>6</td>\n",
       "      <td>1</td>\n",
       "      <td>1</td>\n",
       "      <td>240</td>\n",
       "      <td>47</td>\n",
       "      <td>87</td>\n",
       "      <td>0.540</td>\n",
       "      <td>0</td>\n",
       "      <td>...</td>\n",
       "      <td>0.800</td>\n",
       "      <td>15</td>\n",
       "      <td>34</td>\n",
       "      <td>49</td>\n",
       "      <td>33</td>\n",
       "      <td>12</td>\n",
       "      <td>11</td>\n",
       "      <td>22</td>\n",
       "      <td>26</td>\n",
       "      <td>114</td>\n",
       "    </tr>\n",
       "    <tr>\n",
       "      <th>18</th>\n",
       "      <td>1983</td>\n",
       "      <td>Sixers</td>\n",
       "      <td>1</td>\n",
       "      <td>1</td>\n",
       "      <td>1</td>\n",
       "      <td>240</td>\n",
       "      <td>45</td>\n",
       "      <td>96</td>\n",
       "      <td>0.469</td>\n",
       "      <td>0</td>\n",
       "      <td>...</td>\n",
       "      <td>0.742</td>\n",
       "      <td>21</td>\n",
       "      <td>32</td>\n",
       "      <td>53</td>\n",
       "      <td>26</td>\n",
       "      <td>11</td>\n",
       "      <td>13</td>\n",
       "      <td>14</td>\n",
       "      <td>22</td>\n",
       "      <td>113</td>\n",
       "    </tr>\n",
       "    <tr>\n",
       "      <th>19</th>\n",
       "      <td>1983</td>\n",
       "      <td>Sixers</td>\n",
       "      <td>2</td>\n",
       "      <td>1</td>\n",
       "      <td>1</td>\n",
       "      <td>240</td>\n",
       "      <td>40</td>\n",
       "      <td>83</td>\n",
       "      <td>0.482</td>\n",
       "      <td>0</td>\n",
       "      <td>...</td>\n",
       "      <td>0.719</td>\n",
       "      <td>16</td>\n",
       "      <td>28</td>\n",
       "      <td>44</td>\n",
       "      <td>22</td>\n",
       "      <td>10</td>\n",
       "      <td>6</td>\n",
       "      <td>18</td>\n",
       "      <td>16</td>\n",
       "      <td>103</td>\n",
       "    </tr>\n",
       "  </tbody>\n",
       "</table>\n",
       "<p>20 rows × 24 columns</p>\n",
       "</div>"
      ],
      "text/plain": [
       "    Year     Team  Game  Win  Home   MP  FG  FGA    FGP  TP  ...    FTP  ORB  \\\n",
       "0   1980   Lakers     1    1     1  240  48   89  0.539   0  ...  0.867   12   \n",
       "1   1980   Lakers     2    0     1  240  48   95  0.505   0  ...  0.667   15   \n",
       "2   1980   Lakers     3    1     0  240  44   92  0.478   0  ...  0.767   22   \n",
       "3   1980   Lakers     4    0     0  240  44   93  0.473   0  ...  0.737   18   \n",
       "4   1980   Lakers     5    1     1  240  41   91  0.451   0  ...  0.788   19   \n",
       "5   1980   Lakers     6    1     0  240  45   92  0.489   0  ...  0.943   17   \n",
       "6   1981  Celtics     1    1     1  240  41   95  0.432   0  ...  0.800   25   \n",
       "7   1981  Celtics     2    0     1  240  41   82  0.500   0  ...  0.615   14   \n",
       "8   1981  Celtics     3    1     0  240  40   89  0.449   2  ...  0.632   16   \n",
       "9   1981  Celtics     4    0     0  240  35   74  0.473   0  ...  0.667   17   \n",
       "10  1981  Celtics     5    1     1  240  41   94  0.436   0  ...  0.771   19   \n",
       "11  1981  Celtics     6    1     0  240  43   78  0.551   1  ...  0.833    9   \n",
       "12  1982   Lakers     1    1     0  240  49   93  0.527   0  ...  0.743   19   \n",
       "13  1982   Lakers     2    0     0  240  35   83  0.422   0  ...  0.649   17   \n",
       "14  1982   Lakers     3    1     1  240  50   91  0.549   1  ...  0.596   17   \n",
       "15  1982   Lakers     4    1     1  240  45   97  0.464   0  ...  0.724   16   \n",
       "16  1982   Lakers     5    0     0  240  47  100  0.470   0  ...  0.500   26   \n",
       "17  1982   Lakers     6    1     1  240  47   87  0.540   0  ...  0.800   15   \n",
       "18  1983   Sixers     1    1     1  240  45   96  0.469   0  ...  0.742   21   \n",
       "19  1983   Sixers     2    1     1  240  40   83  0.482   0  ...  0.719   16   \n",
       "\n",
       "    DRB  TRB  AST  STL  BLK  TOV  PF  PTS  \n",
       "0    31   43   30    5    9   17  24  109  \n",
       "1    37   52   32   12    7   26  27  104  \n",
       "2    34   56   20    5    5   20  25  111  \n",
       "3    31   49   23   12    6   19  22  102  \n",
       "4    37   56   28    7    6   21  27  108  \n",
       "5    35   52   27   14    4   17  22  123  \n",
       "6    29   54   23    6    5   19  21   98  \n",
       "7    34   48   17    6    7   22  27   90  \n",
       "8    28   44   24   12    6   11  25   94  \n",
       "9    30   47   22    5    6   22  22   86  \n",
       "10   35   54   25    5    8   14  23  109  \n",
       "11   28   37   26    6    0   13  21  102  \n",
       "12   31   50   34   11    7   22  26  124  \n",
       "13   22   39   25   11    6   18  21   94  \n",
       "14   31   48   30   15    5   18  30  129  \n",
       "15   33   49   35   10    4   12  21  111  \n",
       "16   23   49   31    5    9   24  29  102  \n",
       "17   34   49   33   12   11   22  26  114  \n",
       "18   32   53   26   11   13   14  22  113  \n",
       "19   28   44   22   10    6   18  16  103  \n",
       "\n",
       "[20 rows x 24 columns]"
      ]
     },
     "execution_count": 38,
     "metadata": {},
     "output_type": "execute_result"
    }
   ],
   "source": [
    "basket.head(20)"
   ]
  },
  {
   "cell_type": "code",
   "execution_count": 39,
   "metadata": {},
   "outputs": [
    {
     "data": {
      "text/html": [
       "<div>\n",
       "<style scoped>\n",
       "    .dataframe tbody tr th:only-of-type {\n",
       "        vertical-align: middle;\n",
       "    }\n",
       "\n",
       "    .dataframe tbody tr th {\n",
       "        vertical-align: top;\n",
       "    }\n",
       "\n",
       "    .dataframe thead th {\n",
       "        text-align: right;\n",
       "    }\n",
       "</style>\n",
       "<table border=\"1\" class=\"dataframe\">\n",
       "  <thead>\n",
       "    <tr style=\"text-align: right;\">\n",
       "      <th></th>\n",
       "      <th>Year</th>\n",
       "      <th>Game</th>\n",
       "      <th>Win</th>\n",
       "      <th>Home</th>\n",
       "      <th>MP</th>\n",
       "      <th>FG</th>\n",
       "      <th>FGA</th>\n",
       "      <th>FGP</th>\n",
       "      <th>TP</th>\n",
       "      <th>TPA</th>\n",
       "      <th>...</th>\n",
       "      <th>FTP</th>\n",
       "      <th>ORB</th>\n",
       "      <th>DRB</th>\n",
       "      <th>TRB</th>\n",
       "      <th>AST</th>\n",
       "      <th>STL</th>\n",
       "      <th>BLK</th>\n",
       "      <th>TOV</th>\n",
       "      <th>PF</th>\n",
       "      <th>PTS</th>\n",
       "    </tr>\n",
       "  </thead>\n",
       "  <tbody>\n",
       "    <tr>\n",
       "      <th>count</th>\n",
       "      <td>220.000000</td>\n",
       "      <td>220.000000</td>\n",
       "      <td>220.000000</td>\n",
       "      <td>220.000000</td>\n",
       "      <td>220.000000</td>\n",
       "      <td>220.000000</td>\n",
       "      <td>220.000000</td>\n",
       "      <td>220.000000</td>\n",
       "      <td>220.000000</td>\n",
       "      <td>220.000000</td>\n",
       "      <td>...</td>\n",
       "      <td>220.000000</td>\n",
       "      <td>220.000000</td>\n",
       "      <td>220.000000</td>\n",
       "      <td>220.000000</td>\n",
       "      <td>220.000000</td>\n",
       "      <td>220.000000</td>\n",
       "      <td>220.000000</td>\n",
       "      <td>220.000000</td>\n",
       "      <td>220.000000</td>\n",
       "      <td>220.000000</td>\n",
       "    </tr>\n",
       "    <tr>\n",
       "      <th>mean</th>\n",
       "      <td>1998.863636</td>\n",
       "      <td>3.400000</td>\n",
       "      <td>0.709091</td>\n",
       "      <td>0.504545</td>\n",
       "      <td>242.386364</td>\n",
       "      <td>37.750000</td>\n",
       "      <td>80.877273</td>\n",
       "      <td>0.466523</td>\n",
       "      <td>5.354545</td>\n",
       "      <td>14.604545</td>\n",
       "      <td>...</td>\n",
       "      <td>0.735568</td>\n",
       "      <td>12.295455</td>\n",
       "      <td>30.200000</td>\n",
       "      <td>42.495455</td>\n",
       "      <td>22.504545</td>\n",
       "      <td>7.854545</td>\n",
       "      <td>5.322727</td>\n",
       "      <td>13.709091</td>\n",
       "      <td>22.859091</td>\n",
       "      <td>100.786364</td>\n",
       "    </tr>\n",
       "    <tr>\n",
       "      <th>std</th>\n",
       "      <td>11.310865</td>\n",
       "      <td>1.734422</td>\n",
       "      <td>0.455217</td>\n",
       "      <td>0.501120</td>\n",
       "      <td>8.445949</td>\n",
       "      <td>6.323563</td>\n",
       "      <td>9.511753</td>\n",
       "      <td>0.054264</td>\n",
       "      <td>4.035428</td>\n",
       "      <td>9.420321</td>\n",
       "      <td>...</td>\n",
       "      <td>0.105555</td>\n",
       "      <td>4.630549</td>\n",
       "      <td>4.872437</td>\n",
       "      <td>6.459214</td>\n",
       "      <td>6.132850</td>\n",
       "      <td>2.944964</td>\n",
       "      <td>2.769770</td>\n",
       "      <td>3.872029</td>\n",
       "      <td>4.371259</td>\n",
       "      <td>13.314763</td>\n",
       "    </tr>\n",
       "    <tr>\n",
       "      <th>min</th>\n",
       "      <td>1980.000000</td>\n",
       "      <td>1.000000</td>\n",
       "      <td>0.000000</td>\n",
       "      <td>0.000000</td>\n",
       "      <td>240.000000</td>\n",
       "      <td>25.000000</td>\n",
       "      <td>62.000000</td>\n",
       "      <td>0.289000</td>\n",
       "      <td>0.000000</td>\n",
       "      <td>0.000000</td>\n",
       "      <td>...</td>\n",
       "      <td>0.368000</td>\n",
       "      <td>3.000000</td>\n",
       "      <td>16.000000</td>\n",
       "      <td>22.000000</td>\n",
       "      <td>11.000000</td>\n",
       "      <td>1.000000</td>\n",
       "      <td>0.000000</td>\n",
       "      <td>4.000000</td>\n",
       "      <td>12.000000</td>\n",
       "      <td>71.000000</td>\n",
       "    </tr>\n",
       "    <tr>\n",
       "      <th>25%</th>\n",
       "      <td>1989.000000</td>\n",
       "      <td>2.000000</td>\n",
       "      <td>0.000000</td>\n",
       "      <td>0.000000</td>\n",
       "      <td>240.000000</td>\n",
       "      <td>33.000000</td>\n",
       "      <td>75.000000</td>\n",
       "      <td>0.429750</td>\n",
       "      <td>2.000000</td>\n",
       "      <td>6.750000</td>\n",
       "      <td>...</td>\n",
       "      <td>0.667000</td>\n",
       "      <td>9.000000</td>\n",
       "      <td>27.000000</td>\n",
       "      <td>38.000000</td>\n",
       "      <td>18.000000</td>\n",
       "      <td>6.000000</td>\n",
       "      <td>3.000000</td>\n",
       "      <td>11.000000</td>\n",
       "      <td>20.000000</td>\n",
       "      <td>90.750000</td>\n",
       "    </tr>\n",
       "    <tr>\n",
       "      <th>50%</th>\n",
       "      <td>1999.000000</td>\n",
       "      <td>3.000000</td>\n",
       "      <td>1.000000</td>\n",
       "      <td>1.000000</td>\n",
       "      <td>240.000000</td>\n",
       "      <td>37.000000</td>\n",
       "      <td>80.000000</td>\n",
       "      <td>0.467000</td>\n",
       "      <td>5.000000</td>\n",
       "      <td>15.000000</td>\n",
       "      <td>...</td>\n",
       "      <td>0.740000</td>\n",
       "      <td>12.000000</td>\n",
       "      <td>30.000000</td>\n",
       "      <td>42.000000</td>\n",
       "      <td>22.000000</td>\n",
       "      <td>8.000000</td>\n",
       "      <td>5.000000</td>\n",
       "      <td>14.000000</td>\n",
       "      <td>23.000000</td>\n",
       "      <td>101.000000</td>\n",
       "    </tr>\n",
       "    <tr>\n",
       "      <th>75%</th>\n",
       "      <td>2009.000000</td>\n",
       "      <td>5.000000</td>\n",
       "      <td>1.000000</td>\n",
       "      <td>1.000000</td>\n",
       "      <td>240.000000</td>\n",
       "      <td>42.000000</td>\n",
       "      <td>87.000000</td>\n",
       "      <td>0.500000</td>\n",
       "      <td>8.000000</td>\n",
       "      <td>20.000000</td>\n",
       "      <td>...</td>\n",
       "      <td>0.815750</td>\n",
       "      <td>15.000000</td>\n",
       "      <td>33.250000</td>\n",
       "      <td>47.000000</td>\n",
       "      <td>27.000000</td>\n",
       "      <td>10.000000</td>\n",
       "      <td>7.000000</td>\n",
       "      <td>16.000000</td>\n",
       "      <td>26.000000</td>\n",
       "      <td>109.000000</td>\n",
       "    </tr>\n",
       "    <tr>\n",
       "      <th>max</th>\n",
       "      <td>2018.000000</td>\n",
       "      <td>7.000000</td>\n",
       "      <td>1.000000</td>\n",
       "      <td>1.000000</td>\n",
       "      <td>315.000000</td>\n",
       "      <td>56.000000</td>\n",
       "      <td>130.000000</td>\n",
       "      <td>0.617000</td>\n",
       "      <td>18.000000</td>\n",
       "      <td>43.000000</td>\n",
       "      <td>...</td>\n",
       "      <td>1.000000</td>\n",
       "      <td>27.000000</td>\n",
       "      <td>44.000000</td>\n",
       "      <td>59.000000</td>\n",
       "      <td>44.000000</td>\n",
       "      <td>18.000000</td>\n",
       "      <td>14.000000</td>\n",
       "      <td>26.000000</td>\n",
       "      <td>33.000000</td>\n",
       "      <td>141.000000</td>\n",
       "    </tr>\n",
       "  </tbody>\n",
       "</table>\n",
       "<p>8 rows × 23 columns</p>\n",
       "</div>"
      ],
      "text/plain": [
       "              Year        Game         Win        Home          MP  \\\n",
       "count   220.000000  220.000000  220.000000  220.000000  220.000000   \n",
       "mean   1998.863636    3.400000    0.709091    0.504545  242.386364   \n",
       "std      11.310865    1.734422    0.455217    0.501120    8.445949   \n",
       "min    1980.000000    1.000000    0.000000    0.000000  240.000000   \n",
       "25%    1989.000000    2.000000    0.000000    0.000000  240.000000   \n",
       "50%    1999.000000    3.000000    1.000000    1.000000  240.000000   \n",
       "75%    2009.000000    5.000000    1.000000    1.000000  240.000000   \n",
       "max    2018.000000    7.000000    1.000000    1.000000  315.000000   \n",
       "\n",
       "               FG         FGA         FGP          TP         TPA  ...  \\\n",
       "count  220.000000  220.000000  220.000000  220.000000  220.000000  ...   \n",
       "mean    37.750000   80.877273    0.466523    5.354545   14.604545  ...   \n",
       "std      6.323563    9.511753    0.054264    4.035428    9.420321  ...   \n",
       "min     25.000000   62.000000    0.289000    0.000000    0.000000  ...   \n",
       "25%     33.000000   75.000000    0.429750    2.000000    6.750000  ...   \n",
       "50%     37.000000   80.000000    0.467000    5.000000   15.000000  ...   \n",
       "75%     42.000000   87.000000    0.500000    8.000000   20.000000  ...   \n",
       "max     56.000000  130.000000    0.617000   18.000000   43.000000  ...   \n",
       "\n",
       "              FTP         ORB         DRB         TRB         AST         STL  \\\n",
       "count  220.000000  220.000000  220.000000  220.000000  220.000000  220.000000   \n",
       "mean     0.735568   12.295455   30.200000   42.495455   22.504545    7.854545   \n",
       "std      0.105555    4.630549    4.872437    6.459214    6.132850    2.944964   \n",
       "min      0.368000    3.000000   16.000000   22.000000   11.000000    1.000000   \n",
       "25%      0.667000    9.000000   27.000000   38.000000   18.000000    6.000000   \n",
       "50%      0.740000   12.000000   30.000000   42.000000   22.000000    8.000000   \n",
       "75%      0.815750   15.000000   33.250000   47.000000   27.000000   10.000000   \n",
       "max      1.000000   27.000000   44.000000   59.000000   44.000000   18.000000   \n",
       "\n",
       "              BLK         TOV          PF         PTS  \n",
       "count  220.000000  220.000000  220.000000  220.000000  \n",
       "mean     5.322727   13.709091   22.859091  100.786364  \n",
       "std      2.769770    3.872029    4.371259   13.314763  \n",
       "min      0.000000    4.000000   12.000000   71.000000  \n",
       "25%      3.000000   11.000000   20.000000   90.750000  \n",
       "50%      5.000000   14.000000   23.000000  101.000000  \n",
       "75%      7.000000   16.000000   26.000000  109.000000  \n",
       "max     14.000000   26.000000   33.000000  141.000000  \n",
       "\n",
       "[8 rows x 23 columns]"
      ]
     },
     "execution_count": 39,
     "metadata": {},
     "output_type": "execute_result"
    }
   ],
   "source": [
    "basket.describe()"
   ]
  },
  {
   "cell_type": "markdown",
   "metadata": {},
   "source": [
    "# Nbr de win par rapport au nbr de points marqué"
   ]
  },
  {
   "cell_type": "code",
   "execution_count": 50,
   "metadata": {},
   "outputs": [
    {
     "data": {
      "text/plain": [
       "<seaborn.axisgrid.FacetGrid at 0x7fecb8b85d00>"
      ]
     },
     "execution_count": 50,
     "metadata": {},
     "output_type": "execute_result"
    },
    {
     "data": {
      "image/png": "[encoded data removed]",
      "text/plain": [
       "<Figure size 360x360 with 1 Axes>"
      ]
     },
     "metadata": {
      "needs_background": "light"
     },
     "output_type": "display_data"
    }
   ],
   "source": [
    "sns.catplot(x='Win', y='PTS', data=basket, kind='box')"
   ]
  },
  {
   "cell_type": "markdown",
   "metadata": {},
   "source": [
    "Ici, on peux constater que passé un certain nombre de points le match est gagné et de meme que en dessous d'un certain nombre de point marqué le match est perdu. Tout cela montre aussi qu'il y a un tranche de points qui ne permet pas de deternimé si le match est oui ou non gagné."
   ]
  },
  {
   "cell_type": "code",
   "execution_count": 42,
   "metadata": {},
   "outputs": [
    {
     "data": {
      "text/plain": [
       "<seaborn.axisgrid.FacetGrid at 0x7fecb6e072b0>"
      ]
     },
     "execution_count": 42,
     "metadata": {},
     "output_type": "execute_result"
    },
    {
     "data": {
      "image/png": "[encoded data removed]",
      "text/plain": [
       "<Figure size 360x360 with 1 Axes>"
      ]
     },
     "metadata": {
      "needs_background": "light"
     },
     "output_type": "display_data"
    }
   ],
   "source": [
    "sns.relplot(x=\"Year\",y=\"PTS\",data=basket)"
   ]
  },
  {
   "cell_type": "markdown",
   "metadata": {},
   "source": [
    "Ici on peux constater que le nombre de point marqué lors des final n'est pas fixe et reste assez aleatoire"
   ]
  },
  {
   "cell_type": "markdown",
   "metadata": {},
   "source": [
    "# Nbr de win par rapport au nbr d'assist"
   ]
  },
  {
   "cell_type": "code",
   "execution_count": 55,
   "metadata": {},
   "outputs": [
    {
     "data": {
      "text/plain": [
       "<seaborn.axisgrid.FacetGrid at 0x7fecb89fed00>"
      ]
     },
     "execution_count": 55,
     "metadata": {},
     "output_type": "execute_result"
    },
    {
     "data": {
      "image/png": "[encoded data removed]",
      "text/plain": [
       "<Figure size 360x360 with 1 Axes>"
      ]
     },
     "metadata": {
      "needs_background": "light"
     },
     "output_type": "display_data"
    }
   ],
   "source": [
    "sns.catplot(x='Win', y='AST', data=basket, kind='box')"
   ]
  },
  {
   "cell_type": "markdown",
   "metadata": {},
   "source": [
    "# Nbr de win par rapport au nbr de rebond"
   ]
  },
  {
   "cell_type": "code",
   "execution_count": 56,
   "metadata": {},
   "outputs": [
    {
     "data": {
      "text/plain": [
       "<seaborn.axisgrid.FacetGrid at 0x7fecb8b65be0>"
      ]
     },
     "execution_count": 56,
     "metadata": {},
     "output_type": "execute_result"
    },
    {
     "data": {
      "image/png": "[encoded data removed]",
      "text/plain": [
       "<Figure size 360x360 with 1 Axes>"
      ]
     },
     "metadata": {
      "needs_background": "light"
     },
     "output_type": "display_data"
    }
   ],
   "source": [
    "sns.catplot(x='Win', y='TRB', data=basket, kind='box')"
   ]
  },
  {
   "cell_type": "code",
   "execution_count": 45,
   "metadata": {},
   "outputs": [
    {
     "data": {
      "text/plain": [
       "<seaborn.axisgrid.FacetGrid at 0x7fecb6f099d0>"
      ]
     },
     "execution_count": 45,
     "metadata": {},
     "output_type": "execute_result"
    },
    {
     "data": {
      "image/png": "[encoded data removed]",
      "text/plain": [
       "<Figure size 360x360 with 1 Axes>"
      ]
     },
     "metadata": {
      "needs_background": "light"
     },
     "output_type": "display_data"
    }
   ],
   "source": [
    "sns.relplot(x=\"PTS\",y=\"Team\",data=basket)"
   ]
  },
  {
   "cell_type": "code",
   "execution_count": 57,
   "metadata": {},
   "outputs": [
    {
     "data": {
      "text/plain": [
       "<seaborn.axisgrid.FacetGrid at 0x7fecb89f18e0>"
      ]
     },
     "execution_count": 57,
     "metadata": {},
     "output_type": "execute_result"
    },
    {
     "data": {
      "image/png": "[encoded data removed]",
      "text/plain": [
       "<Figure size 360x360 with 1 Axes>"
      ]
     },
     "metadata": {
      "needs_background": "light"
     },
     "output_type": "display_data"
    }
   ],
   "source": [
    "sns.catplot(x='Team', y='Game', data=basket, kind='box')"
   ]
  },
  {
   "cell_type": "code",
   "execution_count": 65,
   "metadata": {},
   "outputs": [
    {
     "data": {
      "text/plain": [
       "<seaborn.axisgrid.FacetGrid at 0x7fecb9ff3910>"
      ]
     },
     "execution_count": 65,
     "metadata": {},
     "output_type": "execute_result"
    },
    {
     "data": {
      "image/png": "[encoded data removed]",
      "text/plain": [
       "<Figure size 1728x576 with 1 Axes>"
      ]
     },
     "metadata": {
      "needs_background": "light"
     },
     "output_type": "display_data"
    }
   ],
   "source": [
    "sns.relplot(x='Team', y='Win', data=basket, kind='line',height=8, aspect=3)"
   ]
  },
  {
   "cell_type": "code",
   "execution_count": 66,
   "metadata": {},
   "outputs": [
    {
     "data": {
      "text/plain": [
       "<seaborn.axisgrid.FacetGrid at 0x7fecba546b50>"
      ]
     },
     "execution_count": 66,
     "metadata": {},
     "output_type": "execute_result"
    },
    {
     "data": {
      "image/png": "[encoded data removed]",
      "text/plain": [
       "<Figure size 720x720 with 1 Axes>"
      ]
     },
     "metadata": {
      "needs_background": "light"
     },
     "output_type": "display_data"
    }
   ],
   "source": [
    "sns.catplot(x=\"Team\", y=\"Win\", data= basket, kind=\"bar\", height=10)"
   ]
  },
  {
   "cell_type": "code",
   "execution_count": 60,
   "metadata": {},
   "outputs": [
    {
     "data": {
      "text/plain": [
       "<seaborn.axisgrid.FacetGrid at 0x7fecb7ee3850>"
      ]
     },
     "execution_count": 60,
     "metadata": {},
     "output_type": "execute_result"
    },
    {
     "data": {
      "image/png": "[encoded data removed]",
      "text/plain": [
       "<Figure size 360x360 with 1 Axes>"
      ]
     },
     "metadata": {
      "needs_background": "light"
     },
     "output_type": "display_data"
    }
   ],
   "source": [
    "sns.catplot(x='Team', y='Game', data=basket)"
   ]
  },
  {
   "cell_type": "code",
   "execution_count": null,
   "metadata": {},
   "outputs": [],
   "source": []
  }
 ],
 "metadata": {
  "kernelspec": {
   "display_name": "Python 3",
   "language": "python",
   "name": "python3"
  },
  "language_info": {
   "codemirror_mode": {
    "name": "ipython",
    "version": 3
   },
   "file_extension": ".py",
   "mimetype": "text/x-python",
   "name": "python",
   "nbconvert_exporter": "python",
   "pygments_lexer": "ipython3",
   "version": "3.8.5"
  }
 },
 "nbformat": 4,
 "nbformat_minor": 4
}
